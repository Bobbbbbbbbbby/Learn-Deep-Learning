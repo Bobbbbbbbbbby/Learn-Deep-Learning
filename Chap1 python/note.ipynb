{
 "cells": [
  {
   "attachments": {},
   "cell_type": "markdown",
   "metadata": {},
   "source": [
    "# Chapter 1\n",
    "*Basic Python*\n",
    "\n",
    "*The known knowledge will be neglected*"
   ]
  },
  {
   "cell_type": "code",
   "execution_count": null,
   "metadata": {},
   "outputs": [],
   "source": [
    "# type\n",
    "print(type(10))\n",
    "print(type(11.0))\n",
    "print(type(\"type check\"))"
   ]
  },
  {
   "cell_type": "code",
   "execution_count": null,
   "metadata": {},
   "outputs": [],
   "source": [
    "# List and Slicing\n",
    "a = [1, 2, 3, 4, 5]\n",
    "print(a[1:3])\n",
    "print(a[1:])\n",
    "print(a[:1])\n",
    "print(a[1:-1])"
   ]
  },
  {
   "cell_type": "code",
   "execution_count": null,
   "metadata": {},
   "outputs": [],
   "source": [
    "# Dictionary\n",
    "dict = {'a':0, 'b':1}\n",
    "print(dict['a'])"
   ]
  },
  {
   "cell_type": "code",
   "execution_count": null,
   "metadata": {},
   "outputs": [],
   "source": [
    "# Control Flow\n",
    "a = 0\n",
    "b = 1\n",
    "if a < b:\n",
    "    print(f'{a} is less than {b}')\n",
    "else:\n",
    "    print(f'{a} is bigger than {b}')\n",
    "\n",
    "c = [1, 2, 3, 4, 5]\n",
    "for x in c:\n",
    "    print(x)"
   ]
  },
  {
   "cell_type": "code",
   "execution_count": null,
   "metadata": {},
   "outputs": [],
   "source": [
    "# Function\n",
    "def add(a, b):\n",
    "    return a + b\n",
    "\n",
    "print(add(1, 1))"
   ]
  },
  {
   "attachments": {},
   "cell_type": "markdown",
   "metadata": {},
   "source": [
    "## Class\n",
    "Contents in the book are the most basic knowledge\n",
    "\n",
    "It should be mention that when you need to use `self` in a method, *put `self` at the place of the first argument*"
   ]
  },
  {
   "cell_type": "code",
   "execution_count": null,
   "metadata": {},
   "outputs": [],
   "source": [
    "# Class\n",
    "class calculator:\n",
    "    def __init__(self, mem_init) :\n",
    "        self.mem = mem_init\n",
    "        print(f\"calculator initiated, mem is {self.mem}\")\n",
    "    \n",
    "    def add(self, a, b) :\n",
    "        self.mem = a + b\n",
    "        return a + b\n",
    "    \n",
    "    def sub(self, a, b) :\n",
    "        self.mem = a - b\n",
    "        return a - b\n",
    "    \n",
    "    def addMem(self, a) :\n",
    "        self.mem += a\n",
    "        return self.mem\n",
    "    \n",
    "    def subMem(self, a) :\n",
    "        self.mem -= a\n",
    "        return self.mem\n",
    "    \n",
    "    def printMem(self) :\n",
    "        print(f\"mem is {self.mem}\")\n",
    "\n",
    "cal = calculator(0)\n",
    "print(cal.add(1, 1))\n",
    "print(cal.addMem(3))\n",
    "print(cal.subMem(2))\n",
    "print(cal.sub(3, 2))\n",
    "cal.printMem()\n"
   ]
  },
  {
   "attachments": {},
   "cell_type": "markdown",
   "metadata": {},
   "source": [
    "## Numpy"
   ]
  },
  {
   "cell_type": "code",
   "execution_count": null,
   "metadata": {},
   "outputs": [],
   "source": [
    "import numpy"
   ]
  },
  {
   "attachments": {},
   "cell_type": "markdown",
   "metadata": {},
   "source": [
    "### Generate Numpy Array\n",
    "Use `array()` method, parameter is a python list, return value is a `numpy.ndarray`"
   ]
  },
  {
   "cell_type": "code",
   "execution_count": null,
   "metadata": {},
   "outputs": [],
   "source": [
    "lst = [1, 2, 3, 4, 5]\n",
    "arr = numpy.array(lst)\n",
    "print(f\"arr is {arr}\")\n",
    "print(f\"type of arr is {type(arr)}\")"
   ]
  },
  {
   "attachments": {},
   "cell_type": "markdown",
   "metadata": {},
   "source": [
    "### Numpy Basic Calculate\n",
    "When 2 `numpy.ndarray` has the same element count, they can do +, -, *, / in an element-wise way."
   ]
  },
  {
   "cell_type": "code",
   "execution_count": null,
   "metadata": {},
   "outputs": [],
   "source": [
    "arr1 = arr\n",
    "arr2 = numpy.array([2, 4, 6, 8, 10])\n",
    "\n",
    "print(f\"arr1 + arr2 is {arr1 + arr2}\")\n",
    "print(f\"arr1 - arr2 is {arr1 - arr2}\")\n",
    "print(f\"arr1 * arr2 is {arr1 * arr2}\")\n",
    "print(f\"arr1 / arr2 is {arr1 / arr2}\")"
   ]
  },
  {
   "attachments": {},
   "cell_type": "markdown",
   "metadata": {},
   "source": [
    "An `numpy.ndarray` can also do the un-element-wise calculation"
   ]
  },
  {
   "cell_type": "code",
   "execution_count": null,
   "metadata": {},
   "outputs": [],
   "source": [
    "print(f\"arr1 + 2 is {arr1 + 2}\")\n",
    "print(f\"arr1 - 2 is {arr1 - 2}\")\n",
    "print(f\"arr1 * 2 is {arr1 * 2}\")\n",
    "print(f\"arr1 / 2 is {arr1 / 2}\")"
   ]
  },
  {
   "attachments": {},
   "cell_type": "markdown",
   "metadata": {},
   "source": [
    "### `Array()` Method Can Create N-Demensional Array\n",
    "* `x.shape` is the shape of `ndarray`\n",
    "* `x.dtype()` is the type of elements"
   ]
  },
  {
   "cell_type": "code",
   "execution_count": null,
   "metadata": {},
   "outputs": [],
   "source": [
    "arr2d1 = numpy.array([[1, 2], [2, 3]])\n",
    "print(f\"a 2d array:\\n {arr2d1}\")\n",
    "print(f\"type of 2d array is {type(arr2d1)}\")\n",
    "print(f\"shape of array is {arr2d1.shape}\")\n",
    "print(f\"data type of elements is {arr2d1.dtype}\")"
   ]
  },
  {
   "attachments": {},
   "cell_type": "markdown",
   "metadata": {},
   "source": [
    "### Element-Wise Operation of Multiple-Dimension Array"
   ]
  },
  {
   "cell_type": "code",
   "execution_count": null,
   "metadata": {},
   "outputs": [],
   "source": [
    "test1 = numpy.array([[1, 1], [2, 2]])\n",
    "test2 = numpy.array([[2, 2], [1, 1]])\n",
    "\n",
    "print(f\"test1 + test2 is \\n{test1 + test2}\")\n",
    "print(f\"test1 - test2 is \\n{test1 - test2}\")\n",
    "print(f\"test1 * test2 is \\n{test1 * test2}\")\n",
    "print(f\"test1 / test2 is \\n{test1 / test2}\")"
   ]
  },
  {
   "attachments": {},
   "cell_type": "markdown",
   "metadata": {},
   "source": [
    "`array` method can generate array of any dimensions, generally we call\n",
    "* 1-d array as *vector*\n",
    "* 2-d array as *metrix*\n",
    "* 3-d and higher array as *tensor*"
   ]
  },
  {
   "attachments": {},
   "cell_type": "markdown",
   "metadata": {},
   "source": [
    "### New Way to Visit Elements in Array\n",
    "`flatten()` will convert the N-d array to a 1-d array\n",
    "\n",
    "We can use array to visit an array, this can be useful is I need to select some data"
   ]
  },
  {
   "cell_type": "code",
   "execution_count": null,
   "metadata": {},
   "outputs": [],
   "source": [
    "test3 = numpy.array([[1, 2, 3], [4, 5, 6], [7, 8, 9]])\n",
    "test3 = test3.flatten()\n",
    "print(f\"flattened array: {test3}\")\n",
    "\n",
    "test3 = test3[test3 > 3]\n",
    "print(f\"the data bigger than 3 in the array: {test3}\")"
   ]
  },
  {
   "attachments": {},
   "cell_type": "markdown",
   "metadata": {},
   "source": [
    "## Matplotlib\n",
    "Needed to visualize the result of the result\n",
    "\n",
    "### `pyplot`\n",
    "use `numpy.arange()` to generate the range of `x`\n",
    "\n",
    "use `numpy.func(x)` to generate the `y` according to `x`"
   ]
  },
  {
   "cell_type": "code",
   "execution_count": null,
   "metadata": {},
   "outputs": [],
   "source": [
    "import matplotlib.pyplot as plot"
   ]
  },
  {
   "cell_type": "code",
   "execution_count": null,
   "metadata": {},
   "outputs": [],
   "source": [
    "x = numpy.arange(0, numpy.pi, 0.01)\n",
    "y = numpy.sin(x)\n",
    "plot.plot(x, y)\n",
    "plot.show()"
   ]
  },
  {
   "attachments": {},
   "cell_type": "markdown",
   "metadata": {},
   "source": [
    "* use `linestyle` in `plot()` method to set the linestyle\n",
    "* use `label` in `plot()` method to set the label of line\n",
    "* use `xlabel()` method to set the label of x\n",
    "* use `ylabel()` method to set the label of y\n",
    "* use `title()` method to set the title of plot\n",
    "* use `legend()` to show the label of lines"
   ]
  },
  {
   "cell_type": "code",
   "execution_count": null,
   "metadata": {},
   "outputs": [],
   "source": [
    "x = numpy.arange(0, numpy.pi * 2, 0.01)\n",
    "y1 = numpy.sin(x)\n",
    "y2 = numpy.cos(x)\n",
    "plot.plot(x, y1, linestyle = \"--\", label = \"sin\")\n",
    "plot.plot(x, y2, label = \"cos\")\n",
    "plot.xlabel(\"x\")\n",
    "plot.ylabel(\"y\")\n",
    "plot.legend()\n",
    "plot.show()"
   ]
  },
  {
   "attachments": {},
   "cell_type": "markdown",
   "metadata": {},
   "source": [
    "### Show Image with Plot\n",
    "* use `imread()` method of `matplotlib.image` to read in an image\n",
    "* use `imshow()` method of `matplotlib.pyplot` to show the image"
   ]
  },
  {
   "cell_type": "code",
   "execution_count": null,
   "metadata": {},
   "outputs": [],
   "source": [
    "from matplotlib.image import imread\n",
    "\n",
    "img = imread(\"sans.jpg\")\n",
    "plot.imshow(img)\n",
    "plot.show()"
   ]
  }
 ],
 "metadata": {
  "kernelspec": {
   "display_name": "learn",
   "language": "python",
   "name": "python3"
  },
  "language_info": {
   "codemirror_mode": {
    "name": "ipython",
    "version": 3
   },
   "file_extension": ".py",
   "mimetype": "text/x-python",
   "name": "python",
   "nbconvert_exporter": "python",
   "pygments_lexer": "ipython3",
   "version": "3.11.3"
  },
  "orig_nbformat": 4
 },
 "nbformat": 4,
 "nbformat_minor": 2
}
