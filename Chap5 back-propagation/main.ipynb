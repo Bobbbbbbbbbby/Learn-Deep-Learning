{
 "cells": [
  {
   "attachments": {},
   "cell_type": "markdown",
   "metadata": {},
   "source": [
    "# Back Propagation\n",
    "> 误差反向传播\n",
    "\n",
    "A brilliant idea: calculate the influence of the inputs to this node, propagate the influence back to the previous node based on the *chain law*.\n",
    "\n",
    "Finally get the influence, aka the gradient of every node to the loss function.\n",
    "\n",
    "This method will be significantly faster than just calculating every gradient."
   ]
  },
  {
   "attachments": {},
   "cell_type": "markdown",
   "metadata": {},
   "source": [
    "## Implementation of Basic Layers\n",
    "### Implement Layer of Multiply\n",
    "and use the class to implement this picture:\n",
    "<div align=\"center\"><img src=\"example1.png\" width=50% height=50%><div\\>"
   ]
  },
  {
   "cell_type": "code",
   "execution_count": 72,
   "metadata": {},
   "outputs": [
    {
     "name": "stdout",
     "output_type": "stream",
     "text": [
      "when tax ratio is 1.1, an apple cost 100, buying 2 apple(s) costs 220.00000000000003\n"
     ]
    }
   ],
   "source": [
    "class mulLayer:\n",
    "    def __init__(self):\n",
    "        self.x = None\n",
    "        self.y = None\n",
    "\n",
    "    def forward(self, x, y):\n",
    "        self.x = x\n",
    "        self.y = y\n",
    "        out = x * y\n",
    "        return out\n",
    "    \n",
    "    def backward(self, dout):\n",
    "        dx = dout * self.y\n",
    "        dy = dout * self.x\n",
    "        return dx, dy\n",
    "    \n",
    "    # according to z = xy: dz/dx = y; dz/dy = x\n",
    "appleCnt = 2\n",
    "pricePerApple = 100\n",
    "taxRatio = 1.1\n",
    "\n",
    "applePriceLayer = mulLayer()\n",
    "taxPriceLayer = mulLayer()\n",
    "\n",
    "applePrice = applePriceLayer.forward(pricePerApple, appleCnt)\n",
    "taxPrice = taxPriceLayer.forward(applePrice, taxRatio)\n",
    "\n",
    "print(f\"when tax ratio is {taxRatio}, an apple cost {pricePerApple}, buying {appleCnt} apple(s) costs {taxPrice}\")"
   ]
  },
  {
   "attachments": {},
   "cell_type": "markdown",
   "metadata": {},
   "source": [
    "then I will use the backward method to show the influence of the apple count and tax ratio to the final price"
   ]
  },
  {
   "cell_type": "code",
   "execution_count": 73,
   "metadata": {},
   "outputs": [
    {
     "name": "stdout",
     "output_type": "stream",
     "text": [
      "influence of the apple cnt is 110.00000000000001\n",
      "influence of the price per apple is 2.2\n",
      "influence of the tax ratio is 200\n"
     ]
    }
   ],
   "source": [
    "dPrice = 1\n",
    "dApplePrice, dTaxRatio = taxPriceLayer.backward(dPrice)\n",
    "dPricePerApple, dAppleCnt = applePriceLayer.backward(dApplePrice)\n",
    "\n",
    "print(f\"influence of the apple cnt is {dAppleCnt}\")\n",
    "print(f\"influence of the price per apple is {dPricePerApple}\")\n",
    "print(f\"influence of the tax ratio is {dTaxRatio}\")"
   ]
  },
  {
   "attachments": {},
   "cell_type": "markdown",
   "metadata": {},
   "source": [
    "### Implement Layer of Add\n",
    "and use the method to implement this picture:\n",
    "\n",
    "<div align=\"center\"><img src=\"example2.png\" width=50% height=50%><div\\>"
   ]
  },
  {
   "cell_type": "code",
   "execution_count": 74,
   "metadata": {},
   "outputs": [],
   "source": [
    "class addLayer:\n",
    "    def __init__(self):\n",
    "        self.x = None\n",
    "        self.y = None\n",
    "\n",
    "    def forward(self, x, y):\n",
    "        self.x = x\n",
    "        self.y = y\n",
    "        out = x + y\n",
    "        return out\n",
    "    \n",
    "    def backward(self, dout):\n",
    "        dx = dout\n",
    "        dy = dout\n",
    "        return dx, dy\n",
    "    \n",
    "    # according to z = x + y: dz/dx = 1; dz/dy = 1"
   ]
  },
  {
   "cell_type": "code",
   "execution_count": 75,
   "metadata": {},
   "outputs": [
    {
     "name": "stdout",
     "output_type": "stream",
     "text": [
      "an apple cost 100\n",
      "an orange cost 150\n",
      "when tax ratio is 1.1\n",
      "buying 2 apple(s) and 3 orange(s) costs 715.0000000000001\n"
     ]
    }
   ],
   "source": [
    "# forward\n",
    "appleCnt = 2\n",
    "pricePerApple = 100\n",
    "orangeCnt = 3\n",
    "pricePerOrange = 150\n",
    "taxRatio = 1.1\n",
    "\n",
    "applePriceLayer = mulLayer()\n",
    "orangePriceLayer = mulLayer()\n",
    "totalPriceLayer = addLayer()\n",
    "taxLayer = mulLayer()\n",
    "\n",
    "applePrice = applePriceLayer.forward(appleCnt, pricePerApple)\n",
    "orangePrice = orangePriceLayer.forward(orangeCnt, pricePerOrange)\n",
    "totalPrice = totalPriceLayer.forward(applePrice, orangePrice)\n",
    "finalPrice = taxLayer.forward(totalPrice, taxRatio)\n",
    "\n",
    "print(f\"an apple cost {pricePerApple}\")\n",
    "print(f\"an orange cost {pricePerOrange}\")\n",
    "print(f\"when tax ratio is {taxRatio}\")\n",
    "print(f\"buying {appleCnt} apple(s) and {orangeCnt} orange(s) costs {finalPrice}\")"
   ]
  },
  {
   "cell_type": "code",
   "execution_count": 76,
   "metadata": {},
   "outputs": [
    {
     "name": "stdout",
     "output_type": "stream",
     "text": [
      "influence of the apple cnt is 110.00000000000001\n",
      "influence of the price per apple is 2.2\n",
      "influence of the orange cnt is 165.0\n",
      "influence of the price per orange is 3.3000000000000003\n",
      "influence of the tax ratio is 650\n"
     ]
    }
   ],
   "source": [
    "# backward\n",
    "dPrice = 1\n",
    "\n",
    "dTotalPrice, dTaxRatio = taxLayer.backward(dPrice)\n",
    "dApplePrice, dOrangePrice = totalPriceLayer.backward(dTotalPrice)\n",
    "dAppleCnt, dPricePerApple = applePriceLayer.backward(dApplePrice)\n",
    "dOrangeCnt, dPricePerOrange = orangePriceLayer.backward(dOrangePrice)\n",
    "\n",
    "print(f\"influence of the apple cnt is {dAppleCnt}\")\n",
    "print(f\"influence of the price per apple is {dPricePerApple}\")\n",
    "print(f\"influence of the orange cnt is {dOrangeCnt}\")\n",
    "print(f\"influence of the price per orange is {dPricePerOrange}\")\n",
    "print(f\"influence of the tax ratio is {dTaxRatio}\")"
   ]
  },
  {
   "attachments": {},
   "cell_type": "markdown",
   "metadata": {},
   "source": [
    "## Implement Layers of Activation Functions\n",
    "### ReLU\n",
    "$$\n",
    "y = \\begin{cases}\n",
    "x &(x> 0)\\\\\n",
    "0 &(x\\le 0)\n",
    "\\end{cases}\n",
    "$$\n",
    "\n",
    "According to the definition of the function:\n",
    "$$\n",
    "\\frac{\\partial y}{\\partial x} = \n",
    "\\begin{cases}\n",
    "1 &(x> 0)\\\\\n",
    "0 &(x\\le 0)\n",
    "\\end{cases}\n",
    "$$"
   ]
  },
  {
   "cell_type": "code",
   "execution_count": 77,
   "metadata": {},
   "outputs": [],
   "source": [
    "# ReLU\n",
    "class ReLU:\n",
    "    def __init__(self):\n",
    "        self.mask = None\n",
    "\n",
    "    def forward(self, x):\n",
    "        self.mask = (x <= 0)\n",
    "        out = x.copy()\n",
    "        out[self.mask] = 0\n",
    "\n",
    "        return out\n",
    "    \n",
    "    def backward(self, dout):\n",
    "        dout[self.mask] = 0\n",
    "        dx = dout.copy()\n",
    "\n",
    "        return dx"
   ]
  },
  {
   "attachments": {},
   "cell_type": "markdown",
   "metadata": {},
   "source": [
    "### Sigmoid\n",
    "$$\n",
    "y = \\frac{1}{1 + e^{-x}}\n",
    "$$\n",
    "\n",
    "Calculate picture as below:\n",
    "<div align=\"center\"><img src=\"example3.png\" width=50% height=50%></div>\n",
    "\n",
    "It seems a little big complex, try to implement it."
   ]
  },
  {
   "cell_type": "code",
   "execution_count": 78,
   "metadata": {},
   "outputs": [
    {
     "name": "stdout",
     "output_type": "stream",
     "text": [
      "[0.73105858 0.73105858 0.73105858]\n",
      "[0.19661193 0.19661193 0.19661193]\n"
     ]
    }
   ],
   "source": [
    "import numpy as np\n",
    "\n",
    "class expLayer:\n",
    "    def __init__(self):\n",
    "        self.x = None\n",
    "\n",
    "    def forward(self, x):\n",
    "        self.x = x\n",
    "        out = np.exp(x)\n",
    "\n",
    "        return out\n",
    "    \n",
    "    def backward(self, dout):\n",
    "        dx = dout * np.exp(self.x)\n",
    "\n",
    "        return dx\n",
    "    \n",
    "class oneDivLayer:\n",
    "    def __init__(self):\n",
    "        self.x = None\n",
    "\n",
    "    def forward(self, x):\n",
    "        self.x = x\n",
    "        out = 1 / x\n",
    "\n",
    "        return out\n",
    "    \n",
    "    def backward(self, dout):\n",
    "        dx = dout * (-(1 / (self.x * self.x)))\n",
    "\n",
    "        return dx\n",
    "    \n",
    "class sigmoidLayer:\n",
    "    def __init__(self):\n",
    "        self.firstLayer = mulLayer()\n",
    "        self.secondLayer = expLayer()\n",
    "        self.thirdLayer = addLayer()\n",
    "        self.forthLayer = oneDivLayer()\n",
    "\n",
    "    def forward(self, x):\n",
    "        firstOutput = self.firstLayer.forward(x, -1)\n",
    "        secondOutput = self.secondLayer.forward(firstOutput)\n",
    "        thirdOutput = self.thirdLayer.forward(secondOutput, 1)\n",
    "        forthOutput = self.forthLayer.forward(thirdOutput)\n",
    "\n",
    "        return forthOutput\n",
    "    \n",
    "    def backward(self, dout):\n",
    "        firstBack = self.forthLayer.backward(dout)\n",
    "        secondBack, temp = self.thirdLayer.backward(firstBack)\n",
    "        thirdBack = self.secondLayer.backward(secondBack)\n",
    "        forthBack, temp = self.firstLayer.backward(thirdBack)\n",
    "\n",
    "        return forthBack\n",
    "    \n",
    "# test\n",
    "test = sigmoidLayer()\n",
    "output = test.forward(np.array([1, 1, 1]))\n",
    "print(output)\n",
    "\n",
    "backwardOut = test.backward(np.array([1, 1, 1]))\n",
    "print(backwardOut)"
   ]
  },
  {
   "attachments": {},
   "cell_type": "markdown",
   "metadata": {},
   "source": [
    "However, the method above is too slow and complex.\n",
    "\n",
    "We should use math to help: (put input x, output y for sigmoid)\n",
    "$$\n",
    "\\frac{\\partial y}{\\partial x} = Ey^2e^{-x} = Ey(1 - y)\n",
    "$$"
   ]
  },
  {
   "cell_type": "code",
   "execution_count": 79,
   "metadata": {},
   "outputs": [
    {
     "name": "stdout",
     "output_type": "stream",
     "text": [
      "[0.73105858 0.73105858 0.73105858]\n",
      "[0.19661193 0.19661193 0.19661193]\n"
     ]
    }
   ],
   "source": [
    "class sigmoid:\n",
    "    def __init__(self):\n",
    "        self.out = None\n",
    "\n",
    "    def forward(self, x):\n",
    "        out = 1 / (1 + np.exp(-x))\n",
    "        self.out = out\n",
    "        \n",
    "        return out\n",
    "    \n",
    "    def backward(self, dout):\n",
    "        dx = dout * self.out * (1 - self.out)\n",
    "        return dx\n",
    "\n",
    "# test\n",
    "test = sigmoidLayer()\n",
    "output = test.forward(np.array([1, 1, 1]))\n",
    "print(output)\n",
    "\n",
    "backwardOut = test.backward(np.array([1, 1, 1]))\n",
    "print(backwardOut)"
   ]
  },
  {
   "attachments": {},
   "cell_type": "markdown",
   "metadata": {},
   "source": [
    "## Affine & Softmax Layer\n",
    "### Affine\n",
    "Affine is the layer that do the equation:\n",
    "$$\n",
    "Y = X\\cdot W + B\n",
    "$$\n",
    "\n",
    "as the picture below:\n",
    "<div align=\"center\"><img src=\"example4.png\" width=50% height=50%></div>\n",
    "\n",
    "To implement the layer, use the conclusion below:\n",
    "$$\n",
    "\\begin{align*}\n",
    "&\\frac{\\partial L}{\\partial X} = \\frac{\\partial L}{\\partial Y} \\cdot W^T\\\\\n",
    "&\\frac{\\partial L}{\\partial W} = X^T\\cdot \\frac{\\partial L}{\\partial Y}\n",
    "\\end{align*}\n",
    "$$"
   ]
  },
  {
   "attachments": {},
   "cell_type": "markdown",
   "metadata": {},
   "source": [
    "In the batch version, there will be $N$ $X$ and $N$ $W$, and one $B$\n",
    "\n",
    "We can use the same equation for the BP, just see the shape:\n",
    "```\n",
    "x.shape = n * a\n",
    "w.shape = a * b\n",
    "b.shape = b\n",
    "y.shape = n * b\n",
    "\n",
    "dl/dy shape = n * b\n",
    "dl/dx shape = n * b - b * a = n * a\n",
    "dl/dw shape = a * n - n * b = a * b\n",
    "dl/db, use sum\n",
    "```"
   ]
  },
  {
   "cell_type": "code",
   "execution_count": null,
   "metadata": {},
   "outputs": [],
   "source": [
    "# affine layer\n",
    "class affine:\n",
    "    def __init__(self, w, b):\n",
    "        self.w = w\n",
    "        self.b = b\n",
    "        self.x = None\n",
    "        self.dw = None\n",
    "        self.db = None\n",
    "\n",
    "    def forward(self, x):\n",
    "        self.x = x\n",
    "        result = np.dot(x, self.w) + self.b\n",
    "        return result\n",
    "    \n",
    "    def backward(self, dl):\n",
    "        dx = np.dot(dl, self.dw.T)\n",
    "        self.dw = np.dot(self.x.T, dl) \n",
    "        self.db = np.sum(dl, axis = 0)\n",
    "\n",
    "        return dx"
   ]
  }
 ],
 "metadata": {
  "kernelspec": {
   "display_name": "learn",
   "language": "python",
   "name": "python3"
  },
  "language_info": {
   "codemirror_mode": {
    "name": "ipython",
    "version": 3
   },
   "file_extension": ".py",
   "mimetype": "text/x-python",
   "name": "python",
   "nbconvert_exporter": "python",
   "pygments_lexer": "ipython3",
   "version": "3.11.3"
  },
  "orig_nbformat": 4
 },
 "nbformat": 4,
 "nbformat_minor": 2
}
