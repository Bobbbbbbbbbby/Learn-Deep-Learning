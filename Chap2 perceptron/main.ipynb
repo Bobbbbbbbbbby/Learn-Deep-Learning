{
 "cells": [
  {
   "attachments": {},
   "cell_type": "markdown",
   "metadata": {},
   "source": [
    "# Perceptron\n",
    "A perceptron receives several input and gives one output. \n",
    "\n",
    "The input can vary in a range, but the output can only be 0 and 1.\n",
    "\n",
    "The model of a perceptron with 2 inputs:\n",
    "$$\n",
    "\\begin{align*}\n",
    "    y = \n",
    "    \\begin{cases}\n",
    "        0 &(w_1x_1 + w_2x_2 < \\theta)\\\\\n",
    "        1 &(w_1x_1 + w_2x_2 \\ge \\theta)\n",
    "    \\end{cases}\n",
    "\\end{align*}\n",
    "$$\n",
    "\n",
    "## Implement the Perceptron\n",
    "### First Examples\n",
    "Perceptrons can output 0 or 1 according to input, just like the gates.\n",
    "\n",
    "So let's use perceptron to implement and AND gate"
   ]
  },
  {
   "cell_type": "code",
   "execution_count": null,
   "metadata": {},
   "outputs": [],
   "source": [
    "# and-gate\n",
    "\n",
    "def AND(x1, x2) :\n",
    "    w1 = 1\n",
    "    w2 = 1\n",
    "    limit = 1.5\n",
    "    weighted_sum = w1 * x1 + w2 * x2\n",
    "    if weighted_sum < limit:\n",
    "        return 0\n",
    "    else :\n",
    "        return 1\n",
    "    \n",
    "print(f\"1 & 1 is {AND(1, 1)}\")\n",
    "print(f\"1 & 0 is {AND(1, 0)}\")\n",
    "print(f\"0 & 0 is {AND(0, 0)}\")"
   ]
  },
  {
   "attachments": {},
   "cell_type": "markdown",
   "metadata": {},
   "source": [
    "### Import Offset and  Weight\n",
    "Again show the model of a perceptron, but in different form. Now the model has an offset and the right side of the comparison is 0\n",
    "$$\n",
    "\\begin{align*}\n",
    "    y = \n",
    "    \\begin{cases}\n",
    "        0 & (b + w_1x_1 + w_2x_2 \\le 0)\\\\\n",
    "        1 & (b + w_1x_1 + w_2x_2 > 0)\n",
    "    \\end{cases}\n",
    "\\end{align*}\n",
    "$$\n",
    "\n",
    "$b$ is the bias and $w_i$ is weight\n",
    "\n",
    "And now I will use `numpy` to implement the perceptron."
   ]
  },
  {
   "cell_type": "code",
   "execution_count": null,
   "metadata": {},
   "outputs": [],
   "source": [
    "# OR gate\n",
    "import numpy as np\n",
    "\n",
    "def myOr(input) :\n",
    "    weight = np.array([1, 1])\n",
    "    ndinput = np.array(input)\n",
    "    offset = -0.5\n",
    "    result = offset + np.sum(weight * ndinput)\n",
    "    if result < 0: return 0\n",
    "    else : return 1\n",
    "\n",
    "print(f\"0 or 0 is {myOr([0, 0])}\")\n",
    "print(f\"1 or 0 is {myOr([1, 0])}\")\n",
    "print(f\"1 or 1 is {myOr([1, 1])}\")\n",
    "\n",
    "def myAnd(input) :\n",
    "    weight = np.array([1, 1])\n",
    "    ndinput = np.array(input)\n",
    "    offset = -1.5\n",
    "    result = offset + np.sum(weight * ndinput)\n",
    "    if result < 0 : return 0\n",
    "    else : return 1"
   ]
  },
  {
   "attachments": {},
   "cell_type": "markdown",
   "metadata": {},
   "source": [
    "It should be mentioned that the meaning of offset is different from the meaning of weight\n",
    "* Weight controls the importance of the import\n",
    "* Offset controls how easy the neurons can be stimulated"
   ]
  },
  {
   "attachments": {},
   "cell_type": "markdown",
   "metadata": {},
   "source": [
    "## Limitation of Perceptrons\n",
    "In the AI101, I have said that the perceptron can only devide the plain into 2 parts. \n",
    "\n",
    "After giving the method to construct AND, OR and NAND. I will claim that the perceptron can never function as a XOR gate.\n",
    "\n",
    "Firstly I will use the plot to show the math form of the OR perceptron.\n",
    "\n",
    "The divide line is: $x + y - 0.5 = 0$, deduct into $y = 0.5 - x$"
   ]
  },
  {
   "cell_type": "code",
   "execution_count": null,
   "metadata": {},
   "outputs": [],
   "source": [
    "import matplotlib.pyplot as plot\n",
    "\n",
    "x = np.arange(-2, 2, 0.1)\n",
    "y = 0.5 - x\n",
    "plot.plot(x, y)\n",
    "plot.scatter([0], [0], s = 10, c = 'r')\n",
    "plot.scatter([1], [0], s = 10, c = 'b')\n",
    "plot.scatter([0], [1], s = 10, c = 'b')\n",
    "plot.scatter([1], [1], s = 10, c = 'b')\n",
    "plot.show()"
   ]
  },
  {
   "attachments": {},
   "cell_type": "markdown",
   "metadata": {},
   "source": [
    "We can see that the essense of the perceptron is to divide the different points into 2 group\n",
    "\n",
    "*This kind of points should be able to divided with a straight line*; if not, the perceptron cannot handle.\n",
    "\n",
    "For example the XOR situation will be showed with plot:"
   ]
  },
  {
   "cell_type": "code",
   "execution_count": null,
   "metadata": {},
   "outputs": [],
   "source": [
    "plot.xlim(left = -2, right = 2)\n",
    "plot.ylim(bottom = -2, top = 2)\n",
    "plot.scatter(0, 0, s = 10, c = 'r')\n",
    "plot.scatter(1, 1, s = 10, c = 'r')\n",
    "plot.scatter(0, 1, s = 10, c = 'b')\n",
    "plot.scatter(1, 0, s = 10, c = 'b')\n",
    "plot.plot()\n",
    "plot.show()"
   ]
  },
  {
   "attachments": {},
   "cell_type": "markdown",
   "metadata": {},
   "source": [
    "We can easily see that the points in different colors will never be able to divided into 2 groups with only 1 straight line.\n",
    "\n",
    "But if we are able to use the curves, the problem will be solved.\n",
    "\n",
    "So let us introduce Multi-Layer Perceptron.\n",
    "\n",
    "## Multi-Layer Perceptron\n",
    "How to build an XOR with AND, OR, NAND?\n",
    "\n",
    "With the knowledge of the logic circuit, `a ^ b = (a & ~b) | (~a & b)`\n",
    "\n",
    "Let us implement the XOR with the gates created before"
   ]
  },
  {
   "cell_type": "code",
   "execution_count": null,
   "metadata": {},
   "outputs": [],
   "source": [
    "def XOR(input) :\n",
    "    input1 = np.array(input)\n",
    "    input2 = np.array(input)\n",
    "    if input1[0] == 0 : input1[0] = 1\n",
    "    else : input1[0] = 0\n",
    "    if input2[1] == 0 : input2[1] = 1\n",
    "    else : input2[1] = 0\n",
    "    x1 = myAnd(input1)\n",
    "    x2 = myAnd(input2)\n",
    "    input3 = [x1, x2]\n",
    "    return myOr(input3)\n",
    "\n",
    "print(f\"0 xor 0 is {XOR([0, 0])}\")\n",
    "print(f\"1 xor 1 is {XOR([1, 1])}\")\n",
    "print(f\"1 xor 0 is {XOR([1, 0])}\")"
   ]
  },
  {
   "attachments": {},
   "cell_type": "markdown",
   "metadata": {},
   "source": [
    "The result is what we expect as a XOR. And this is a 2-layer perceptron.\n",
    "\n",
    "This showes that a multi-layer perceptron is more powerful than a single-layer perceptron.\n",
    "\n",
    "Actually, this showes that a multi-layer perceptron is as powerful as a computer CPU, which is composed with gates.\n",
    "\n",
    "*When we say 2-layer perceptron, 2-layer means 2 layer of weight*"
   ]
  }
 ],
 "metadata": {
  "kernelspec": {
   "display_name": "learn",
   "language": "python",
   "name": "python3"
  },
  "language_info": {
   "codemirror_mode": {
    "name": "ipython",
    "version": 3
   },
   "file_extension": ".py",
   "mimetype": "text/x-python",
   "name": "python",
   "nbconvert_exporter": "python",
   "pygments_lexer": "ipython3",
   "version": "3.11.3"
  },
  "orig_nbformat": 4
 },
 "nbformat": 4,
 "nbformat_minor": 2
}
